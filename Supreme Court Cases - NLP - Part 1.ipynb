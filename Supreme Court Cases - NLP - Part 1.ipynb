{
 "cells": [
  {
   "cell_type": "markdown",
   "metadata": {},
   "source": [
    "# Data collection and Preparation\n",
    "### Software Package & Built in Function Documentation\n",
    "Beautiful Soup - https://www.crummy.com/software/BeautifulSoup/bs4/doc/ <br>\n",
    "requests - http://docs.python-requests.org/en/master/  <br>\n",
    "Regular Expressions - https://docs.python.org/2/library/re.html  <br>\n",
    "Pandas - https://pandas.pydata.org/pandas-docs/stable/10min.html  <br>\n",
    "Numpy - http://www.numpy.org/  <br>\n",
    "Pickle - https://docs.python.org/2/library/pickle.html  <br>"
   ]
  },
  {
   "cell_type": "code",
   "execution_count": 5,
   "metadata": {},
   "outputs": [],
   "source": [
    "# Import Scientific Packages into Python Kernel\n",
    "from bs4 import BeautifulSoup\n",
    "import requests\n",
    "import re\n",
    "import pandas as pd\n",
    "import numpy as np\n",
    "import html5lib"
   ]
  },
  {
   "cell_type": "code",
   "execution_count": 2,
   "metadata": {},
   "outputs": [],
   "source": [
    "headers = {'User-Agent': 'Mozilla/5.0 (Windows NT 10.0;Win64;x64) AppleWebKit/537.36 (KHTML, like Gecko) \\\n",
    "Chrome/92.0.4515.131 Safari/537.36'}"
   ]
  },
  {
   "cell_type": "code",
   "execution_count": 3,
   "metadata": {},
   "outputs": [],
   "source": [
    "url = \"http://caselaw.findlaw.com/court/us-supreme-court/years/\"\n",
    "years = [url + str(year) for year in range(1760,2019)]"
   ]
  },
  {
   "cell_type": "code",
   "execution_count": 4,
   "metadata": {},
   "outputs": [],
   "source": [
    "# Define a method that executes your url request and returns the data (HTML or XML) as an Object \n",
    "def Beautiful_soup_grabber(link):\n",
    "    \n",
    "    response = requests.get(link, headers = headers) #optional add timeout (seconds) keeps requests from running indefinitely \n",
    "    \n",
    "    return BeautifulSoup(response.text, \"lxml\") #Returns BeautifulSoup object, which represents the document as a nested data structure"
   ]
  },
  {
   "cell_type": "code",
   "execution_count": 6,
   "metadata": {},
   "outputs": [],
   "source": [
    "# Define a method which calls the above method for each year within the range you've requested and convert result object into table\n",
    "def year_getter(years):\n",
    "    \n",
    "    y = {}\n",
    "    for year in years:\n",
    "        soup = Beautiful_soup_grabber(year)\n",
    "        souplist = soup.findAll(\"a\")\n",
    "        \n",
    "        #use regular expressions  \n",
    "        for i in souplist:\n",
    "            if re.search(\"us-supreme-court\", str(i)) and not re.search(\"years\", str(i)) and not re.search(\"/court/\", str(i)):\n",
    "                b = i[\"href\"]\n",
    "                y[b] = [re.sub(\"[^0-9]\", \"\", b.split(\"/\")[-1]), re.findall(r'\\d+', year)[0]]\n",
    "    \n",
    "    return pd.DataFrame(y).transpose().reset_index() #converts results to data frame table using pandas"
   ]
  },
  {
   "cell_type": "code",
   "execution_count": 7,
   "metadata": {},
   "outputs": [
    {
     "data": {
      "text/html": [
       "<div>\n",
       "<style scoped>\n",
       "    .dataframe tbody tr th:only-of-type {\n",
       "        vertical-align: middle;\n",
       "    }\n",
       "\n",
       "    .dataframe tbody tr th {\n",
       "        vertical-align: top;\n",
       "    }\n",
       "\n",
       "    .dataframe thead th {\n",
       "        text-align: right;\n",
       "    }\n",
       "</style>\n",
       "<table border=\"1\" class=\"dataframe\">\n",
       "  <thead>\n",
       "    <tr style=\"text-align: right;\">\n",
       "      <th></th>\n",
       "      <th>case_url</th>\n",
       "      <th>docket</th>\n",
       "      <th>year</th>\n",
       "    </tr>\n",
       "  </thead>\n",
       "  <tbody>\n",
       "    <tr>\n",
       "      <th>0</th>\n",
       "      <td>https://caselaw.findlaw.com/us-supreme-court/1...</td>\n",
       "      <td>4</td>\n",
       "      <td>1760</td>\n",
       "    </tr>\n",
       "    <tr>\n",
       "      <th>1</th>\n",
       "      <td>https://caselaw.findlaw.com/us-supreme-court/1...</td>\n",
       "      <td>5</td>\n",
       "      <td>1762</td>\n",
       "    </tr>\n",
       "    <tr>\n",
       "      <th>2</th>\n",
       "      <td>https://caselaw.findlaw.com/us-supreme-court/1...</td>\n",
       "      <td>8</td>\n",
       "      <td>1763</td>\n",
       "    </tr>\n",
       "    <tr>\n",
       "      <th>3</th>\n",
       "      <td>https://caselaw.findlaw.com/us-supreme-court/1...</td>\n",
       "      <td>7</td>\n",
       "      <td>1763</td>\n",
       "    </tr>\n",
       "    <tr>\n",
       "      <th>4</th>\n",
       "      <td>https://caselaw.findlaw.com/us-supreme-court/1...</td>\n",
       "      <td>11</td>\n",
       "      <td>1764</td>\n",
       "    </tr>\n",
       "    <tr>\n",
       "      <th>5</th>\n",
       "      <td>https://caselaw.findlaw.com/us-supreme-court/1...</td>\n",
       "      <td>92</td>\n",
       "      <td>1764</td>\n",
       "    </tr>\n",
       "    <tr>\n",
       "      <th>6</th>\n",
       "      <td>https://caselaw.findlaw.com/us-supreme-court/1...</td>\n",
       "      <td>91</td>\n",
       "      <td>1764</td>\n",
       "    </tr>\n",
       "  </tbody>\n",
       "</table>\n",
       "</div>"
      ],
      "text/plain": [
       "                                            case_url docket  year\n",
       "0  https://caselaw.findlaw.com/us-supreme-court/1...      4  1760\n",
       "1  https://caselaw.findlaw.com/us-supreme-court/1...      5  1762\n",
       "2  https://caselaw.findlaw.com/us-supreme-court/1...      8  1763\n",
       "3  https://caselaw.findlaw.com/us-supreme-court/1...      7  1763\n",
       "4  https://caselaw.findlaw.com/us-supreme-court/1...     11  1764\n",
       "5  https://caselaw.findlaw.com/us-supreme-court/1...     92  1764\n",
       "6  https://caselaw.findlaw.com/us-supreme-court/1...     91  1764"
      ]
     },
     "execution_count": 7,
     "metadata": {},
     "output_type": "execute_result"
    }
   ],
   "source": [
    "df_links = year_getter(years)\n",
    "df_links.columns = [\"case_url\", \"docket\", \"year\"]\n",
    "df_links.head(7)"
   ]
  },
  {
   "cell_type": "code",
   "execution_count": 8,
   "metadata": {},
   "outputs": [
    {
     "data": {
      "text/plain": [
       "(23487, 3)"
      ]
     },
     "execution_count": 8,
     "metadata": {},
     "output_type": "execute_result"
    }
   ],
   "source": [
    "df_links.shape"
   ]
  },
  {
   "cell_type": "code",
   "execution_count": 9,
   "metadata": {},
   "outputs": [],
   "source": [
    "# Python Object serialization - \n",
    "# “Pickling” is the process whereby a Python object hierarchy is converted into a byte stream\n",
    "df_links.to_pickle(\"supcourt_yearlist.pickle\") "
   ]
  },
  {
   "cell_type": "code",
   "execution_count": 3,
   "metadata": {},
   "outputs": [],
   "source": [
    "df_links = pd.read_pickle(\"supcourt_yearlist.pickle\")"
   ]
  },
  {
   "cell_type": "code",
   "execution_count": 4,
   "metadata": {},
   "outputs": [],
   "source": [
    "##gets full text (maj opinion and dissent) in one string\n",
    "\n",
    "import unicodedata\n",
    "import string\n",
    "from unicodedata import normalize\n",
    "\n",
    "def  supcourttext(link):\n",
    "\n",
    "    allitems = []\n",
    "    response = requests.get(link, headers =  headers)\n",
    "    page = response.text\n",
    "    soup = BeautifulSoup(page, \"html5lib\")\n",
    "    \n",
    "    pagesoup = soup.find_all(class_=\"caselawcontent searchable-content\") \n",
    "    \n",
    "    for item in pagesoup:\n",
    "        txtt = item.get_text()\n",
    "        cleantxt = unicodedata.normalize('NFKD',txtt)\n",
    "\n",
    "        #cleantxt= re.sub(r'\\s+', '', cleantxt)\n",
    "        cleantxt= cleantxt.replace('\\n', ' ')\n",
    "        cleantxt= cleantxt.replace('\\t', ' ')\n",
    "        allitems.append(cleantxt)\n",
    "    \n",
    "    return ' '.join(allitems)"
   ]
  },
  {
   "cell_type": "code",
   "execution_count": 5,
   "metadata": {},
   "outputs": [],
   "source": [
    "#split dataframe into three temporary dfs (caselaw can detect too may requests from a scraper and block your ip)\n",
    "supcourt_df1 = df_links.iloc[0:3000]\n",
    "supcourt_df2 = df_links.iloc[3000:6000]\n",
    "supcourt_df3 = df_links.iloc[6000:9000]\n",
    "supcourt_df4 = df_links.iloc[9000:12000]\n",
    "supcourt_df5 = df_links.iloc[12000:15000]\n",
    "supcourt_df6 = df_links.iloc[15000:18000]\n",
    "supcourt_df7 = df_links.iloc[18000:21000]\n",
    "supcourt_df8 = df_links.iloc[21000:23487]"
   ]
  },
  {
   "cell_type": "code",
   "execution_count": 7,
   "metadata": {
    "collapsed": true
   },
   "outputs": [
    {
     "name": "stderr",
     "output_type": "stream",
     "text": [
      "C:\\Users\\Kunal Kadam\\AppData\\Local\\Programs\\Python\\Python39\\lib\\site-packages\\pandas\\core\\indexing.py:1667: SettingWithCopyWarning: \n",
      "A value is trying to be set on a copy of a slice from a DataFrame.\n",
      "Try using .loc[row_indexer,col_indexer] = value instead\n",
      "\n",
      "See the caveats in the documentation: https://pandas.pydata.org/pandas-docs/stable/user_guide/indexing.html#returning-a-view-versus-a-copy\n",
      "  self.obj[key] = value\n"
     ]
    }
   ],
   "source": [
    "supcourt_df1.loc[:,(\"fulltext\")] = supcourt_df1.case_url.apply(supcourttext)"
   ]
  },
  {
   "cell_type": "code",
   "execution_count": 10,
   "metadata": {
    "collapsed": true
   },
   "outputs": [
    {
     "name": "stderr",
     "output_type": "stream",
     "text": [
      "C:\\Users\\Kunal Kadam\\AppData\\Local\\Programs\\Python\\Python39\\lib\\site-packages\\pandas\\core\\indexing.py:1667: SettingWithCopyWarning: \n",
      "A value is trying to be set on a copy of a slice from a DataFrame.\n",
      "Try using .loc[row_indexer,col_indexer] = value instead\n",
      "\n",
      "See the caveats in the documentation: https://pandas.pydata.org/pandas-docs/stable/user_guide/indexing.html#returning-a-view-versus-a-copy\n",
      "  self.obj[key] = value\n"
     ]
    }
   ],
   "source": [
    "supcourt_df2.loc[:,(\"fulltext\")] = supcourt_df2.case_url.apply(supcourttext)"
   ]
  },
  {
   "cell_type": "code",
   "execution_count": 12,
   "metadata": {},
   "outputs": [],
   "source": [
    "supcourt_df3.loc[:,(\"fulltext\")] = supcourt_df3.case_url.apply(supcourttext)"
   ]
  },
  {
   "cell_type": "code",
   "execution_count": null,
   "metadata": {},
   "outputs": [],
   "source": [
    "supcourt_df4.loc[:,(\"fulltext\")] = supcourt_df4.case_url.apply(supcourttext)"
   ]
  },
  {
   "cell_type": "code",
   "execution_count": null,
   "metadata": {},
   "outputs": [],
   "source": [
    "supcourt_df5.loc[:,(\"fulltext\")] = supcourt_df5.case_url.apply(supcourttext)"
   ]
  },
  {
   "cell_type": "code",
   "execution_count": null,
   "metadata": {},
   "outputs": [],
   "source": [
    "supcourt_df6.loc[:,(\"fulltext\")] = supcourt_df6.case_url.apply(supcourttext)"
   ]
  },
  {
   "cell_type": "code",
   "execution_count": null,
   "metadata": {},
   "outputs": [],
   "source": [
    "supcourt_df7.loc[:,(\"fulltext\")] = supcourt_df7.case_url.apply(supcourttext)"
   ]
  },
  {
   "cell_type": "code",
   "execution_count": 16,
   "metadata": {
    "collapsed": true
   },
   "outputs": [
    {
     "name": "stderr",
     "output_type": "stream",
     "text": [
      "C:\\Users\\Kunal Kadam\\AppData\\Local\\Programs\\Python\\Python39\\lib\\site-packages\\pandas\\core\\indexing.py:1667: SettingWithCopyWarning: \n",
      "A value is trying to be set on a copy of a slice from a DataFrame.\n",
      "Try using .loc[row_indexer,col_indexer] = value instead\n",
      "\n",
      "See the caveats in the documentation: https://pandas.pydata.org/pandas-docs/stable/user_guide/indexing.html#returning-a-view-versus-a-copy\n",
      "  self.obj[key] = value\n"
     ]
    }
   ],
   "source": [
    "supcourt_df8.loc[:,(\"fulltext\")] = supcourt_df8.case_url.apply(supcourttext)"
   ]
  },
  {
   "cell_type": "code",
   "execution_count": null,
   "metadata": {},
   "outputs": [],
   "source": [
    "supcourt_df1.to_pickle(\"temp1.pickle\") \n",
    "supcourt_df2.to_pickle(\"temp2.pickle\") \n",
    "supcourt_df3.to_pickle(\"temp3.pickle\") \n",
    "supcourt_df4.to_pickle(\"temp4.pickle\") \n",
    "supcourt_df5.to_pickle(\"temp5.pickle\") \n",
    "supcourt_df6.to_pickle(\"temp6.pickle\") \n",
    "supcourt_df7.to_pickle(\"temp7.pickle\") \n",
    "supcourt_df8.to_pickle(\"temp8.pickle\") "
   ]
  },
  {
   "cell_type": "code",
   "execution_count": 23,
   "metadata": {},
   "outputs": [],
   "source": [
    "def checkDataframe(df):\n",
    "    print(df.shape)\n",
    "    print(df.head(2))\n",
    "    # data for first index\n",
    "    print(df.iloc[0, :].fulltext)"
   ]
  },
  {
   "cell_type": "code",
   "execution_count": 31,
   "metadata": {
    "collapsed": true
   },
   "outputs": [
    {
     "name": "stdout",
     "output_type": "stream",
     "text": [
      "(2487, 4)\n",
      "                                                case_url docket  year  \\\n",
      "21000  https://caselaw.findlaw.com/us-supreme-court/5...    157  1991   \n",
      "21001  https://caselaw.findlaw.com/us-supreme-court/5...    160  1991   \n",
      "\n",
      "                                                fulltext  \n",
      "21000                                                ...  \n",
      "21001                                                ...  \n",
      "                                                  United States Supreme Court             TOIBB v. RADLOFF(1991)             No. 90-368             Argued: April 22, 1991Decided: June 13, 1991                                                  Petitioner Toibb filed a voluntary petition for relief under Chapter 7 of the Bankruptcy Code, disclosing, inter alia, assets that included stock in an electric power company. When he discovered that the stock had substantial value, he decided to avoid its liquidation by moving to convert his Chapter 7 case to one under Chapter 11's reorganization provisions. After the Bankruptcy Court granted his motion, and he filed his reorganization plan, that court dismissed his petition, finding that he did not qualify for relief under Chapter 11 because he was not engaged in an ongoing business. The District Court and the Court of Appeals affirmed.    Held:   The Bankruptcy Code's plain language permits individual debtors not engaged in business to file for relief under Chapter 11. Toibb is a debtor within the meaning of 109(d), which provides that \"a person who may be a debtor under chapter 7 . . . except a stockbroker or a commodity broker, and a railroad may be a debtor under chapter 11.\" He is a person who may be a Chapter 7 debtor, since only railroads and various financial and insurance institutions are excluded from Chapter 7's coverage, and 109(d) makes Chapter 11 available to all entities eligible for Chapter 7 protection, other than stockbrokers and commodities brokers. Although Chapter 11's structure and legislative history indicate that it was intended primarily for the use of business debtors, the Code contains no ongoing business requirement for Chapter 11 reorganization; and there is no basis, including underlying policy considerations, for imposing one. Pp. 160-166.   902 F.2d 14, reversed.  BLACKMUN, J., delivered the opinion of the Court, in which REHNQUIST, C.J., and WHITE, MARSHALL, O'CONNOR, SCALIA, KENNEDY, and SOUTER, JJ., joined. STEVENS, J., filed a dissenting opinion, post, p. 166.  Peter M. Lieb argued the cause for petitioner. With him on the briefs were Timothy B. Dyk and Jonathan W. Belsky.  Stephen J. Marzen argued the cause for the United States, as respondent under this Court's Rule 12.4, in support of petitioner. With him on the brief were Solicitor General Starr, Assistant Attorney General Gerson, Deputy Solicitor   [501  U.S. 157, 158]    General Roberts, William Kanter, Bruce G. Forrest, and Martha Davis.  James Hamilton, by invitation of the Court,  498  U.S. 1065 , argued the cause and filed a brief as amicus curiae in support of the judgment below.  JUSTICE BLACKMUN delivered the opinion of the Court.  In this case, we must decide whether an individual debtor not engaged in business is eligible to reorganize under Chapter 11 of the Bankruptcy Code, 11 U.S.C. 1101 et seq.   I     From March, 1983, until April, 1985, petitioner Sheldon Baruch Toibb, a former staff attorney with the Federal Energy Regulatory Commission, was employed as a consultant by Independence Electric Corporation (IEC), a company he and two others organized to produce and market electric power. Petitioner owns 24 percent of the company's shares. After IEC terminated his employment, petitioner was unable to find work as a consultant in the energy field; he has been largely supported by his family and friends since that time.  On November 18, 1986, petitioner filed in the United States Bankruptcy Court for the Eastern District of Missouri a voluntary petition for relief under Chapter 7 of the Code, 11 U.S.C. 701 et seq. The Schedule of Assets and Liabilities accompanying petitioner's filing disclosed no secured debts, a disputed federal tax priority claim of $11,000, and unsecured debts of $170,605. 1  Petitioner listed as nonexempt assets his IEC shares and a possible claim against his former business associates. He stated that the market value of each of these assets was unknown.  On August 6, 1987, the Chapter 7 Trustee appointed to administer petitioner's estate notified the creditors that the   [501  U.S. 157, 159]    Board of Directors of IEC had offered to purchase petitioner's IEC shares for $25,000. When petitioner became aware that this stock had such value, he decided to avoid its liquidation by moving to convert his Chapter 7 case to one under the reorganization provisions of Chapter 11.  The Bankruptcy Court granted petitioner's conversion motion, App. 21, and on February 1, 1988, petitioner filed a plan of reorganization. Id., at 70. Under the plan, petitioner proposed to pay his unsecured creditors $25,000 less administrative expenses and priority tax claims, a proposal that would result in a payment of approximately 11 cents on the dollar. He further proposed to pay the unsecured creditors, for a period of six years, 50 percent of any dividends from IEC or of any proceeds from the sale of the IEC stock, up to full payment of the debts.  On March 8, 1988, the Bankruptcy Court on its own motion ordered petitioner to show cause why his petition should not be dismissed because petitioner was not engaged in business and, therefore, did not qualify as a Chapter 11 debtor. Id., at 121. At the ensuing hearing, petitioner unsuccessfully attempted to demonstrate that he had a business to reorganize. 2  Petitioner also argued that Chapter 11 should be available to an individual debtor not engaged in an ongoing business. On August 1, the Bankruptcy Court ruled that, under the authority of Wamsganz v. Boatmen's Bank of De Soto, 804 F.2d 503 (CA8 1986), petitioner failed to qualify for relief under Chapter 11. App. to Pet. for Cert. A-17 and A-19.  The United States District Court for the Eastern District of Missouri, also relying on Wamsganz, upheld the Bankruptcy Court's dismissal of petitioner's Chapter 11 case. App. to Pet. for Cert. A-8 and A-9. The United States Court of Appeals for the Eighth Circuit affirmed, holding that the Bankruptcy Court had the authority to dismiss the   [501  U.S. 157, 160]    proceeding sua sponte, and that the Circuit's earlier Wamsganz decision was controlling. In re Toibb, 902 F.2d 14 (1990). 3  Because the Court of Appeals' ruling that an individual nonbusiness debtor may not reorganize under Chapter 11 clearly conflicted with the holding of the Court of Appeals for the Eleventh Circuit in In re Moog, 774 F.2d 1073 (1985), we granted certiorari to resolve the conflict. 4   498  U.S. 1060  (1991).   II      A     In our view, the plain language of the Bankruptcy Code disposes of the question before us. Section 109, 11 U.S.C. 109, defines who may be a debtor under the various chapters of the Code. Section 109(d) provides: \"Only a person that may be a debtor under chapter 7 of this title, except a stockbroker or a commodity broker, and a railroad may be a debtor under chapter 11 of this title.\" Section 109(b) states: \"A person may be a debtor under chapter 7 of this title only if such person is not - (1) a railroad; (2) a domestic insurance company, bank, . . .; or (3) a foreign insurance company, bank, . . . engaged in such business in the United States.\"   [501  U.S. 157, 161]    The Code defines \"person\" as used in Title 11 to \"includ[e] [an] individual.\" 101(35). Under the express terms of the Code, therefore, petitioner is \"a person who may be a debtor under chapter 7,\" and satisfies the statutory requirements for a Chapter 11 debtor.  The Code contains no ongoing business requirement for reorganization under Chapter 11, and we are loath to infer the exclusion of certain classes of debtors from the protections of Chapter 11, because Congress took care in 109 to specify who qualifies - and who does not qualify - as a debtor under the various chapters of the Code. Section 109(b) expressly excludes from the coverage of Chapter 7 railroads and various financial and insurance institutions. Only municipalities are eligible for the protection of Chapter 9. 109(c). Most significantly, 109(d) makes stockbrokers and commodities brokers ineligible for Chapter 11 relief, but otherwise leaves that Chapter available to any other entity eligible for the protection of Chapter 7. Congress knew how to restrict recourse to the avenues of bankruptcy relief; it did not place Chapter 11 reorganization beyond the reach of a nonbusiness individual debtor.   B     The amicus curiae in support of the Court of Appeals' judgment acknowledges that Chapter 11 does not expressly exclude an individual nonbusiness debtor from its reach. He echoes the reasoning of those courts that have engrafted an ongoing business requirement onto the plain language of 109(a), and argues that the statute's legislative history and structure make clear that Chapter 11 was intended for business debtors alone. See, e.g., Wamsganz v. Boatmen's Bank of De Soto, 804 F.2d, at 505 (\"The legislative history of the Bankruptcy Code, taken as a whole, shows that Congress meant for chapter 11 to be available to businesses and persons engaged in business, and not to consumer debtors\"). We find these arguments unpersuasive for several reasons.   [501  U.S. 157, 162]     First, this Court has repeated with some frequency:  \"Where, as here, the resolution of a question of federal law turns on a statute and the intention of Congress, we look first to the statutory language and then to the legislative history if the statutory language is unclear.\" Blum v. Stenson,  465  U.S. 886, 896  (1984). The language of 109 is not unclear. Thus, although a court appropriately may refer to a statute's legislative history to resolve statutory ambiguity, there is no need to do so here.    Second, even were we to consider the sundry legislative comments urged in support of a congressional intent to exclude a nonbusiness debtor from Chapter 11, the scant history on this precise issue does not suggest a \"clearly expressed legislative inten[t] . . . contrary . . .\" to the plain language of 109(d). See Consumer Product Safety Comm'n v. GTE Sylvania, Inc.,  447  U.S. 102, 108  (1980). The amicus does point to the following statement in a House report:   \"Some consumer debtors are unable to avail themselves of the relief provided under chapter 13. For these debtors, straight bankruptcy is the only remedy that will enable them to get out from under the debilitating effects of too much debt.\" H.R.Rep. No. 95-595, p. 125, (1977).    Petitioner responds with the following excerpt from a later Senate report:   \"Chapter 11, Reorganization, is primarily designed for businesses, although individuals are eligible for relief under the chapter. The procedures of chapter 11, however, are sufficiently complex that they will be used only in a business case, and not in the consumer context.\" S.Rep. No. 95-989, p. 3 (1978).    These apparently conflicting views tend to negate the suggestion that the Congress enacting the current Code operated with a clear intent to deny Chapter 11 relief to an individual nonbusiness debtor.   [501  U.S. 157, 163]     Finally, we are not persuaded by the contention that Chapter 11 is unavailable to a debtor without an ongoing business because many of the Chapter's provisions do not apply to a nonbusiness debtor. There is no doubt that Congress intended that a business debtor be among those who might use Chapter 11. Code provisions like the ones authorizing the appointment of an equity security holders' committee, 1102, and the appointment of a trustee \"for cause, including fraud, dishonesty, incompetence, or gross mismanagement of the affairs of the debtor by current management . . .,\" 1104(a)(1), certainly are designed to aid in the rehabilitation of a business. It does not follow, however, that a debtor whose affairs do not warrant recourse to these provisions is ineligible for Chapter 11 relief. Instead, these provisions - like the references to debtor businesses in the Chapter's legislative history - reflect an understandable expectation that Chapter 11 would be used primarily by debtors with ongoing businesses; they do not constitute an additional prerequisite for Chapter 11 eligibility beyond those established in 109(d).   III     Although the foregoing analysis is dispositive of the question presented, we deal briefly with amicus' contention that policy considerations underlying the Code support inferring a congressional intent to preclude a nonbusiness debtor from reorganizing under Chapter 11. First, it is said that bringing a consumer debtor within the scope of Chapter 11 does not serve Congress' purpose of permitting business debtors to reorganize and restructure their debts in order to revive the debtors' businesses and thereby preserve jobs and protect investors. This argument assumes that Congress had a single purpose in enacting Chapter 11. Petitioner suggests, however, and we agree, that Chapter 11 also embodies the general Code policy of maximizing the value of the bankruptcy estate. See Commodity Futures Trading Comm'n v. Weintraub,  471  U.S. 343, 351 -354 (1985). Under certain   [501  U.S. 157, 164]    circumstances, a consumer debtor's estate will be worth more if reorganized under Chapter 11 than if liquidated under Chapter 7. Allowing such a debtor to proceed under Chapter 11 serves the congressional purpose of deriving as much value as possible from the debtor's estate.  Second, amicus notes that allowing a consumer debtor to proceed under Chapter 11 would permit the debtor to shield both disposable income and nonexempt personal property. He argues that the legislative history of Chapter 11 does not reflect an intent to offer a consumer debtor more expansive protection than he would find under Chapter 13, which does not protect disposable income, or Chapter 7, which does not protect nonexempt personal assets. As an initial matter, it makes no difference whether the legislative history affirmatively reflects such an intent, because the plain language of the statute allows a consumer debtor to proceed under Chapter 11. Moreover, differences in the requirements and protections of each Chapter reflect Congress' appreciation that various approaches are necessary to address effectively the disparate situations of debtors seeking protection under the Code.  Amicus does not contend that allowing a consumer debtor to reorganize under Chapter 11 will leave the debtor's creditors in a worse position than if the debtor were required to liquidate. See Tr. of Oral Arg. 29-31. Nor could he. Section 1129(a)(7) provides that a reorganization plan may not be confirmed unless all the debtor's creditors accept the plan or will receive not less than they would receive under a Chapter 7 liquidation. Because creditors cannot be expected to approve a plan in which they would receive less than they would from an immediate liquidation of the debtor's assets, it follows that a Chapter 11 reorganization plan usually will be confirmed only when creditors will receive at least as much as if the debtor were to file under Chapter 7. Absent some showing of harm to the creditors of a nonbusiness debtor allowed to reorganize under Chapter 11, we see nothing in the   [501  U.S. 157, 165]    allocation of \"burdens\" and \"benefits\" of Chapter 11 that warrants an inference that Congress intended to exclude a consumer debtor from its coverage. See Herbert, Consumer Chapter 11 Proceedings: Abuse or Alternative?, 91 Com.L.J. 234, 245-248 (1986).  Amicus also warns that allowing consumer debtors to proceed under Chapter 11 will flood the bankruptcy courts with plans of reorganization that ultimately will prove unworkable. We think this fear is unfounded for two reasons. First, the greater expense and complexity of filing under Chapter 11 likely will dissuade most consumer debtors from seeking relief under this Chapter. See S.Rep. No. 95-989, at 3; see also Herbert, supra, at 242-243. Second, the Code gives bankruptcy courts substantial discretion to dismiss a Chapter 11 case in which the debtor files an untenable plan of reorganization. See 1112(b) and 1129(a).  Finally, amicus asserts that extending Chapter 11 to consumer debtors creates the risk that these debtors will be forced into Chapter 11 by their creditors under 303(a), a result contrary to the intent reflected in Congress' decision to prevent involuntary bankruptcy proceedings under Chapter 13. In particular, he suggests that it would be unwise to force a debtor into a Chapter 11 reorganization, because an involuntary debtor would be unlikely to cooperate in the plan of reorganization - a point that Congress noted in refusing to allow involuntary Chapter 13 proceedings. See H.R.Rep. No. 95-595, at 120.  We find these concerns overstated in light of the Code's provisions for dealing with recalcitrant Chapter 11 debtors. If an involuntary Chapter 11 debtor fails to cooperate, this likely will provide the requisite \"cause\" for the bankruptcy court to convert the Chapter 11 case to one under Chapter 7. See 1112(b). In any event, the argument overlooks Congress' primary concern about a debtor's being forced into bankruptcy under Chapter 13: that such a debtor, whose future wages are not exempt from the bankruptcy estate,   [501  U.S. 157, 166]    1322(a)(1), would be compelled to toil for the benefit of creditors in violation of the Thirteenth Amendment's involuntary servitude prohibition. See H.R.Rep. No. 95-595, at 120. Because there is no comparable provision in Chapter 11 requiring a debtor to pay future wages to a creditor, Congress' concern about imposing involuntary servitude on a Chapter 13 debtor is not relevant to a Chapter 11 reorganization.   IV     The plain language of the Bankruptcy Code permits individual debtors not engaged in business to file for relief under Chapter 11. Although the structure and legislative history of Chapter 11 indicate that this Chapter was intended primarily for the use of business debtors, the Code contains no \"ongoing business\" requirement for Chapter 11 reorganization, and we find no basis for imposing one. Accordingly, the judgment of the Court of Appeals is reversed.  It is so ordered.   Footnotes [ Footnote 1 ] Because petitioner's unsecured debts exceeded $100,000 and he had no regular income, he was ineligible to proceed under Chapter 13 of the Code, 11 U.S.C. 1301 et seq. See 109(e).   [ Footnote 2 ] Petitioner does not seek further review of the question whether he is engaged in an ongoing business.   [ Footnote 3 ] The Eighth Circuit also agreed with what it regarded as the supporting precedent of In re Little Creek Development Co., 779 F.2d 1068 (CA5 1986), and In re Winshall Settlor's Trust, 758 F.2d 1136 (CA6 1985).   [ Footnote 4 ] The named respondent, Stuart J. Radloff, was dismissed as Chapter 7 Trustee when the Bankruptcy Court converted petitioner's case to one under Chapter 11. Mr. Radloff did not participate in the proceedings before the Court of Appeals, and refrained from responding to Mr. Toibb's petition for certiorari filed with this Court. We therefore specifically requested the United States Trustee, see 28 U.S.C. 581(a)(13), to respond. In doing so, the United States Trustee indicated his agreement with petitioner's position, and suggested that, if this Court decided to review the case, it might wish to appoint counsel to defend the Eighth Circuit's judgment. We then invited James Hamilton, Esq., of Washington, D.C. a member of the Bar of this Court, to serve as amicus curiae in support of the judgment of the Court of Appeals.  498  U.S. 1065  (1991). Mr. Hamilton accepted this appointment, and has well fulfilled this assigned responsibility.  JUSTICE STEVENS, dissenting.  The Court's reading of the statute is plausible. It is supported by the omission of any prohibition against the use of Chapter 11 by consumer debtors and by the excerpt from the introduction to the Senate Report quoted ante, at 162. Nevertheless, I am persuaded that the Court's reading is incorrect. Two chapters of the Bankruptcy Code - Chapter 7, entitled \"Liquidation,\" 11 U.S.C. 701 et seq., and Chapter 13, entitled \"Adjustment of Debts of an Individual With Regular Income,\" 1301 et seq. - unquestionably and unambiguously authorize relief for individual consumer debtors. Chapter 11, entitled \"Reorganization,\" 1101 et seq., was primarily designed to provide relief for corporate debtors, but also unquestionably authorizes relief for individual proprietors of business enterprises. When the statute is read as a whole, however, it seems quite clear that Congress did not   [501  U.S. 157, 167]    intend to authorize a \"reorganization\" of the affairs of an individual consumer debtor.  Section 109(d) places a limit on the class of persons who may be a debtor under Chapter 11, but it does not state that all members of that class are eligible for Chapter 11 relief. 1  It states that \"only a person that may a debtor under Chapter 7 . . . may be a debtor under Chapter 11. . . .\" (Emphasis added.) It does not, however, state that every person entitled to relief under Chapter 7 is also entitled to relief under Chapter 11. In my judgment, the word \"only\" introduces sufficient ambiguity to justify a careful examination of other provisions of the Act, as well as the legislative history.  This examination convinces me that consumer debtors may not avail themselves of Chapter 11. The repeated references to the debtor's \"business,\" 2  \"the operation of the debtor's business,\" 3  and the \"current or former management of the debtor\" 4  make it abundantly clear that the principal focus of the chapter is upon business reorganizations. This conclusion is confirmed by the discussion of Chapter 11 in the Senate Report, which describes the provision as a \"chapter for business reorganization,\" and repeatedly refers to a \"business\" as the subject of Chapter 11 relief. 5  See also 124   [501  U.S. 157, 168]    Cong.Rec. 34007 (1978) (Chapter 11 is a \"consolidated approach to business rehabilitation\") (statement of Sen. DeConcini)  The House Report however, is more significant, because it emphasizes the relationship between different chapters of the Code. The Report unambiguously states that a Chapter 7 liquidation is \"the only remedy\" for \"consumer debtors [who] are unable to avail themselves of the relief provided under chapter 13.\" H.R.Rep. No. 95-595, p. 125 (1977). See also 124 Cong.Rec., at 32392, 32405 (Chapter 11 is \"a consolidated approach to business rehabilitation\" and a \"new commercial reorganization chapter\") (statement of Rep. Edwards). The accuracy of the statement in the House Report   [501  U.S. 157, 169]    is confirmed by a comparison of the text of Chapter 11 with the text of Chapter 13.  Above, I noted the striking difference between the chapter titles - \"Reorganization\" for Chapter 11, as opposed to \"Adjustment of Debts of an Individual With Regular Income\" for Chapter 13. Also significant is the conspicuous omission from Chapter 11 of both an important limit and an important protection included in Chapter 13. Chapter 13 relief is only available to individuals whose unsecured debts amount to less than $100,000 and whose secured debts are less than $350,000. See 11 U.S.C. 109(e). Chapter 11 contains no comparable limit. Congress would have accomplished little in imposing this limit on the adjustment of individual consumer debt through Chapter 13 if Congress at the same time allowed the individual to avoid the limitation by filing under Chapter 11. 6    More important, the Code expressly provides that involuntary proceedings can only be instituted under Chapter 7 and Chapter 11. See 11 U.S.C. 303(a). A creditor therefore may not force an individual consumer debtor into an involuntary Chapter 13 proceeding. Under the Court's reading of the Act, however, a creditor could institute an involuntary proceeding under Chapter 11 against any individual with regular income. It seems highly unlikely that Congress intended to subject individual consumer debtors, such as pensioners, to involuntary Chapter 11 proceedings while at the same time prohibiting involuntary Chapter 13 proceedings against the same class of debtors   [501  U.S. 157, 170]     For these reasons, notwithstanding the excerpt from the Senate Report on which the Court relies, I would, in accordance with the clear statement in the House Report, read the statute as a whole to limit Chapter 11 relief to business debtors. I therefore respectfully dissent.   [ Footnote 1 ] Section 109(d) provides:  \"Only a person that may be a debtor under chapter 7 of this title, except a stockholder or a commodity broker, and a railroad may be a debtor under Chapter 11 of this title.\" 11 U.S.C. 109(d) (emphasis added).    [ Footnote 2 ] See e.g, 1101(2)(B), 1108.   [ Footnote 3 ] See e.g., 1103(c)(2), 1105, 1106(a)(3).   [ Footnote 4 ] See 1104(b).   [ Footnote 5 ] The Senate Report contains the following explanation of Chapter 11 reorganizations:  \"Chapter 11 deals with the reorganization of a financially distressed business enterprise, providing for its rehabilitation by adjustment of its debt obligations and equity interests. It should be distinguished from the bankruptcy liquidation under chapter 7 or the adjustment of the debts of an individual with regular income under chapter 13.   \"Chapter 11 replaces chapters X, XI and XII of the Bankruptcy Act, Chapter 11 also includes special provisions for railroads in view of the   [501  U.S. 157, 168]    impact of regulatory laws on railroad debtors, and replaces section 77 of the Bankruptcy Act. A single chapter for all business reorganizations will simplify the law by eliminating unnecessary differences in detail that are inevitable under separately administered statutes.   \"Business reorganizations have been governed principally by chapters X and XI, both of which have been adopted by the Congress as part of the bankruptcy reforms in 1938. These chapters were not intended to be alternate paths of reorganization; they were to be mutually exclusive. Chapter X was meant for the reorganization of public companies and chapter XI for the rehabilitation of small and privately owned businesses.   \"That schematic design was well conceived, but flawed somewhat by the failure to include a definition of a \"public company.\" As a result, considerable litigation developed, mostly on the initiative of the Securities and Exchange Commission, over whether a case belonged in chapter X or chapter XI. This issue came to the Supreme Court in three cases, the last one in SEC v. American Trailer Rentals, Inc.,  379  U.S. 594  (1965), but the Court did not enunciate a hard-and-fast rule for all cases. Although it announced some guidelines, management and creditors of large public companies have continued to resort to chapter XI.   \"The single chapter for business reorganization, which the bill provides, will eliminate unprofitable litigation over the preliminary issue as to which of the two chapters apply. . . .   \"Reorganization, in its fundamental aspects, involves the thankless task of determining who should share the losses incurred by an unsuccessful business and how the values of the estate should be apportioned among creditors and stockholders.\" S.Rep. No. 95-989, pp. 9-10 (1978).    [ Footnote 6 ] Although the Court believes that permitting consumer debtors to avail themselves of Chapter 11 will not adversely affect their creditors, ante, at 164-165, I am not so sure. It takes time and money to determine whether a plan will provide creditors with benefits equal to those available through liquidation, and still more time and money to find out whether such a predictive decision turns out to be correct or incorrect. The \"complex\" Chapter 11 process, see S.Rep. No. 95-989, p. 3 (1978), will almost certainly consume more time and resources than the simpler Chapter 7 procedures.   [501  U.S. 157, 171]                            \n"
     ]
    }
   ],
   "source": [
    "# To test the pickle files are saved properly\n",
    "df = pd.read_pickle(\"temp8.pickle\")\n",
    "checkDataframe(df)"
   ]
  },
  {
   "cell_type": "code",
   "execution_count": 32,
   "metadata": {},
   "outputs": [],
   "source": [
    "supcourt_df1 = pd.read_pickle(\"temp1.pickle\")\n",
    "supcourt_df2 = pd.read_pickle(\"temp2.pickle\")\n",
    "supcourt_df3 = pd.read_pickle(\"temp3.pickle\")\n",
    "supcourt_df4 = pd.read_pickle(\"temp4.pickle\")\n",
    "supcourt_df5 = pd.read_pickle(\"temp5.pickle\")\n",
    "supcourt_df6 = pd.read_pickle(\"temp6.pickle\")\n",
    "supcourt_df7 = pd.read_pickle(\"temp7.pickle\")\n",
    "supcourt_df8 = pd.read_pickle(\"temp8.pickle\")"
   ]
  },
  {
   "cell_type": "code",
   "execution_count": 33,
   "metadata": {},
   "outputs": [],
   "source": [
    "#putting it all together\n",
    "full_project = pd.concat([supcourt_df1, supcourt_df2, supcourt_df3, supcourt_df4, supcourt_df5, supcourt_df6, supcourt_df7, supcourt_df8])"
   ]
  },
  {
   "cell_type": "code",
   "execution_count": 34,
   "metadata": {},
   "outputs": [],
   "source": [
    "full_project.to_pickle(\"full_proj_preproc.pickle\")"
   ]
  },
  {
   "cell_type": "code",
   "execution_count": 6,
   "metadata": {},
   "outputs": [
    {
     "ename": "AttributeError",
     "evalue": "Can't get attribute 'new_block' on <module 'pandas.core.internals.blocks' from 'C:\\\\Users\\\\gaikw\\\\anaconda3\\\\lib\\\\site-packages\\\\pandas\\\\core\\\\internals\\\\blocks.py'>",
     "output_type": "error",
     "traceback": [
      "\u001b[1;31m---------------------------------------------------------------------------\u001b[0m",
      "\u001b[1;31mAttributeError\u001b[0m                            Traceback (most recent call last)",
      "\u001b[1;32m<ipython-input-6-885402830d1b>\u001b[0m in \u001b[0;36m<module>\u001b[1;34m\u001b[0m\n\u001b[1;32m----> 1\u001b[1;33m \u001b[0mfinal_dataset\u001b[0m \u001b[1;33m=\u001b[0m \u001b[0mpd\u001b[0m\u001b[1;33m.\u001b[0m\u001b[0mread_pickle\u001b[0m\u001b[1;33m(\u001b[0m\u001b[1;34m\"full_proj_preproc.pickle\"\u001b[0m\u001b[1;33m)\u001b[0m\u001b[1;33m\u001b[0m\u001b[1;33m\u001b[0m\u001b[0m\n\u001b[0m\u001b[0;32m      2\u001b[0m \u001b[0mfinal_dataset\u001b[0m\u001b[1;33m.\u001b[0m\u001b[0mhead\u001b[0m\u001b[1;33m(\u001b[0m\u001b[1;36m7\u001b[0m\u001b[1;33m)\u001b[0m\u001b[1;33m\u001b[0m\u001b[1;33m\u001b[0m\u001b[0m\n",
      "\u001b[1;32m~\\anaconda3\\lib\\site-packages\\pandas\\io\\pickle.py\u001b[0m in \u001b[0;36mread_pickle\u001b[1;34m(filepath_or_buffer, compression)\u001b[0m\n\u001b[0;32m    185\u001b[0m             \u001b[1;31m#  \"No module named 'pandas.core.sparse.series'\"\u001b[0m\u001b[1;33m\u001b[0m\u001b[1;33m\u001b[0m\u001b[1;33m\u001b[0m\u001b[0m\n\u001b[0;32m    186\u001b[0m             \u001b[1;31m#  \"Can't get attribute '__nat_unpickle' on <module 'pandas._libs.tslib\"\u001b[0m\u001b[1;33m\u001b[0m\u001b[1;33m\u001b[0m\u001b[1;33m\u001b[0m\u001b[0m\n\u001b[1;32m--> 187\u001b[1;33m             \u001b[1;32mreturn\u001b[0m \u001b[0mpc\u001b[0m\u001b[1;33m.\u001b[0m\u001b[0mload\u001b[0m\u001b[1;33m(\u001b[0m\u001b[0mf\u001b[0m\u001b[1;33m,\u001b[0m \u001b[0mencoding\u001b[0m\u001b[1;33m=\u001b[0m\u001b[1;32mNone\u001b[0m\u001b[1;33m)\u001b[0m\u001b[1;33m\u001b[0m\u001b[1;33m\u001b[0m\u001b[0m\n\u001b[0m\u001b[0;32m    188\u001b[0m     \u001b[1;32mexcept\u001b[0m \u001b[0mUnicodeDecodeError\u001b[0m\u001b[1;33m:\u001b[0m\u001b[1;33m\u001b[0m\u001b[1;33m\u001b[0m\u001b[0m\n\u001b[0;32m    189\u001b[0m         \u001b[1;31m# e.g. can occur for files written in py27; see GH#28645 and GH#31988\u001b[0m\u001b[1;33m\u001b[0m\u001b[1;33m\u001b[0m\u001b[1;33m\u001b[0m\u001b[0m\n",
      "\u001b[1;32m~\\anaconda3\\lib\\site-packages\\pandas\\compat\\pickle_compat.py\u001b[0m in \u001b[0;36mload\u001b[1;34m(fh, encoding, is_verbose)\u001b[0m\n\u001b[0;32m    247\u001b[0m         \u001b[0mup\u001b[0m\u001b[1;33m.\u001b[0m\u001b[0mis_verbose\u001b[0m \u001b[1;33m=\u001b[0m \u001b[0mis_verbose\u001b[0m\u001b[1;33m\u001b[0m\u001b[1;33m\u001b[0m\u001b[0m\n\u001b[0;32m    248\u001b[0m \u001b[1;33m\u001b[0m\u001b[0m\n\u001b[1;32m--> 249\u001b[1;33m         \u001b[1;32mreturn\u001b[0m \u001b[0mup\u001b[0m\u001b[1;33m.\u001b[0m\u001b[0mload\u001b[0m\u001b[1;33m(\u001b[0m\u001b[1;33m)\u001b[0m\u001b[1;33m\u001b[0m\u001b[1;33m\u001b[0m\u001b[0m\n\u001b[0m\u001b[0;32m    250\u001b[0m     \u001b[1;32mexcept\u001b[0m \u001b[1;33m(\u001b[0m\u001b[0mValueError\u001b[0m\u001b[1;33m,\u001b[0m \u001b[0mTypeError\u001b[0m\u001b[1;33m)\u001b[0m\u001b[1;33m:\u001b[0m\u001b[1;33m\u001b[0m\u001b[1;33m\u001b[0m\u001b[0m\n\u001b[0;32m    251\u001b[0m         \u001b[1;32mraise\u001b[0m\u001b[1;33m\u001b[0m\u001b[1;33m\u001b[0m\u001b[0m\n",
      "\u001b[1;32m~\\anaconda3\\lib\\pickle.py\u001b[0m in \u001b[0;36mload\u001b[1;34m(self)\u001b[0m\n\u001b[0;32m   1208\u001b[0m                     \u001b[1;32mraise\u001b[0m \u001b[0mEOFError\u001b[0m\u001b[1;33m\u001b[0m\u001b[1;33m\u001b[0m\u001b[0m\n\u001b[0;32m   1209\u001b[0m                 \u001b[1;32massert\u001b[0m \u001b[0misinstance\u001b[0m\u001b[1;33m(\u001b[0m\u001b[0mkey\u001b[0m\u001b[1;33m,\u001b[0m \u001b[0mbytes_types\u001b[0m\u001b[1;33m)\u001b[0m\u001b[1;33m\u001b[0m\u001b[1;33m\u001b[0m\u001b[0m\n\u001b[1;32m-> 1210\u001b[1;33m                 \u001b[0mdispatch\u001b[0m\u001b[1;33m[\u001b[0m\u001b[0mkey\u001b[0m\u001b[1;33m[\u001b[0m\u001b[1;36m0\u001b[0m\u001b[1;33m]\u001b[0m\u001b[1;33m]\u001b[0m\u001b[1;33m(\u001b[0m\u001b[0mself\u001b[0m\u001b[1;33m)\u001b[0m\u001b[1;33m\u001b[0m\u001b[1;33m\u001b[0m\u001b[0m\n\u001b[0m\u001b[0;32m   1211\u001b[0m         \u001b[1;32mexcept\u001b[0m \u001b[0m_Stop\u001b[0m \u001b[1;32mas\u001b[0m \u001b[0mstopinst\u001b[0m\u001b[1;33m:\u001b[0m\u001b[1;33m\u001b[0m\u001b[1;33m\u001b[0m\u001b[0m\n\u001b[0;32m   1212\u001b[0m             \u001b[1;32mreturn\u001b[0m \u001b[0mstopinst\u001b[0m\u001b[1;33m.\u001b[0m\u001b[0mvalue\u001b[0m\u001b[1;33m\u001b[0m\u001b[1;33m\u001b[0m\u001b[0m\n",
      "\u001b[1;32m~\\anaconda3\\lib\\pickle.py\u001b[0m in \u001b[0;36mload_stack_global\u001b[1;34m(self)\u001b[0m\n\u001b[0;32m   1533\u001b[0m         \u001b[1;32mif\u001b[0m \u001b[0mtype\u001b[0m\u001b[1;33m(\u001b[0m\u001b[0mname\u001b[0m\u001b[1;33m)\u001b[0m \u001b[1;32mis\u001b[0m \u001b[1;32mnot\u001b[0m \u001b[0mstr\u001b[0m \u001b[1;32mor\u001b[0m \u001b[0mtype\u001b[0m\u001b[1;33m(\u001b[0m\u001b[0mmodule\u001b[0m\u001b[1;33m)\u001b[0m \u001b[1;32mis\u001b[0m \u001b[1;32mnot\u001b[0m \u001b[0mstr\u001b[0m\u001b[1;33m:\u001b[0m\u001b[1;33m\u001b[0m\u001b[1;33m\u001b[0m\u001b[0m\n\u001b[0;32m   1534\u001b[0m             \u001b[1;32mraise\u001b[0m \u001b[0mUnpicklingError\u001b[0m\u001b[1;33m(\u001b[0m\u001b[1;34m\"STACK_GLOBAL requires str\"\u001b[0m\u001b[1;33m)\u001b[0m\u001b[1;33m\u001b[0m\u001b[1;33m\u001b[0m\u001b[0m\n\u001b[1;32m-> 1535\u001b[1;33m         \u001b[0mself\u001b[0m\u001b[1;33m.\u001b[0m\u001b[0mappend\u001b[0m\u001b[1;33m(\u001b[0m\u001b[0mself\u001b[0m\u001b[1;33m.\u001b[0m\u001b[0mfind_class\u001b[0m\u001b[1;33m(\u001b[0m\u001b[0mmodule\u001b[0m\u001b[1;33m,\u001b[0m \u001b[0mname\u001b[0m\u001b[1;33m)\u001b[0m\u001b[1;33m)\u001b[0m\u001b[1;33m\u001b[0m\u001b[1;33m\u001b[0m\u001b[0m\n\u001b[0m\u001b[0;32m   1536\u001b[0m     \u001b[0mdispatch\u001b[0m\u001b[1;33m[\u001b[0m\u001b[0mSTACK_GLOBAL\u001b[0m\u001b[1;33m[\u001b[0m\u001b[1;36m0\u001b[0m\u001b[1;33m]\u001b[0m\u001b[1;33m]\u001b[0m \u001b[1;33m=\u001b[0m \u001b[0mload_stack_global\u001b[0m\u001b[1;33m\u001b[0m\u001b[1;33m\u001b[0m\u001b[0m\n\u001b[0;32m   1537\u001b[0m \u001b[1;33m\u001b[0m\u001b[0m\n",
      "\u001b[1;32m~\\anaconda3\\lib\\site-packages\\pandas\\compat\\pickle_compat.py\u001b[0m in \u001b[0;36mfind_class\u001b[1;34m(self, module, name)\u001b[0m\n\u001b[0;32m    187\u001b[0m         \u001b[0mkey\u001b[0m \u001b[1;33m=\u001b[0m \u001b[1;33m(\u001b[0m\u001b[0mmodule\u001b[0m\u001b[1;33m,\u001b[0m \u001b[0mname\u001b[0m\u001b[1;33m)\u001b[0m\u001b[1;33m\u001b[0m\u001b[1;33m\u001b[0m\u001b[0m\n\u001b[0;32m    188\u001b[0m         \u001b[0mmodule\u001b[0m\u001b[1;33m,\u001b[0m \u001b[0mname\u001b[0m \u001b[1;33m=\u001b[0m \u001b[0m_class_locations_map\u001b[0m\u001b[1;33m.\u001b[0m\u001b[0mget\u001b[0m\u001b[1;33m(\u001b[0m\u001b[0mkey\u001b[0m\u001b[1;33m,\u001b[0m \u001b[0mkey\u001b[0m\u001b[1;33m)\u001b[0m\u001b[1;33m\u001b[0m\u001b[1;33m\u001b[0m\u001b[0m\n\u001b[1;32m--> 189\u001b[1;33m         \u001b[1;32mreturn\u001b[0m \u001b[0msuper\u001b[0m\u001b[1;33m(\u001b[0m\u001b[1;33m)\u001b[0m\u001b[1;33m.\u001b[0m\u001b[0mfind_class\u001b[0m\u001b[1;33m(\u001b[0m\u001b[0mmodule\u001b[0m\u001b[1;33m,\u001b[0m \u001b[0mname\u001b[0m\u001b[1;33m)\u001b[0m\u001b[1;33m\u001b[0m\u001b[1;33m\u001b[0m\u001b[0m\n\u001b[0m\u001b[0;32m    190\u001b[0m \u001b[1;33m\u001b[0m\u001b[0m\n\u001b[0;32m    191\u001b[0m \u001b[1;33m\u001b[0m\u001b[0m\n",
      "\u001b[1;32m~\\anaconda3\\lib\\pickle.py\u001b[0m in \u001b[0;36mfind_class\u001b[1;34m(self, module, name)\u001b[0m\n\u001b[0;32m   1577\u001b[0m         \u001b[0m__import__\u001b[0m\u001b[1;33m(\u001b[0m\u001b[0mmodule\u001b[0m\u001b[1;33m,\u001b[0m \u001b[0mlevel\u001b[0m\u001b[1;33m=\u001b[0m\u001b[1;36m0\u001b[0m\u001b[1;33m)\u001b[0m\u001b[1;33m\u001b[0m\u001b[1;33m\u001b[0m\u001b[0m\n\u001b[0;32m   1578\u001b[0m         \u001b[1;32mif\u001b[0m \u001b[0mself\u001b[0m\u001b[1;33m.\u001b[0m\u001b[0mproto\u001b[0m \u001b[1;33m>=\u001b[0m \u001b[1;36m4\u001b[0m\u001b[1;33m:\u001b[0m\u001b[1;33m\u001b[0m\u001b[1;33m\u001b[0m\u001b[0m\n\u001b[1;32m-> 1579\u001b[1;33m             \u001b[1;32mreturn\u001b[0m \u001b[0m_getattribute\u001b[0m\u001b[1;33m(\u001b[0m\u001b[0msys\u001b[0m\u001b[1;33m.\u001b[0m\u001b[0mmodules\u001b[0m\u001b[1;33m[\u001b[0m\u001b[0mmodule\u001b[0m\u001b[1;33m]\u001b[0m\u001b[1;33m,\u001b[0m \u001b[0mname\u001b[0m\u001b[1;33m)\u001b[0m\u001b[1;33m[\u001b[0m\u001b[1;36m0\u001b[0m\u001b[1;33m]\u001b[0m\u001b[1;33m\u001b[0m\u001b[1;33m\u001b[0m\u001b[0m\n\u001b[0m\u001b[0;32m   1580\u001b[0m         \u001b[1;32melse\u001b[0m\u001b[1;33m:\u001b[0m\u001b[1;33m\u001b[0m\u001b[1;33m\u001b[0m\u001b[0m\n\u001b[0;32m   1581\u001b[0m             \u001b[1;32mreturn\u001b[0m \u001b[0mgetattr\u001b[0m\u001b[1;33m(\u001b[0m\u001b[0msys\u001b[0m\u001b[1;33m.\u001b[0m\u001b[0mmodules\u001b[0m\u001b[1;33m[\u001b[0m\u001b[0mmodule\u001b[0m\u001b[1;33m]\u001b[0m\u001b[1;33m,\u001b[0m \u001b[0mname\u001b[0m\u001b[1;33m)\u001b[0m\u001b[1;33m\u001b[0m\u001b[1;33m\u001b[0m\u001b[0m\n",
      "\u001b[1;32m~\\anaconda3\\lib\\pickle.py\u001b[0m in \u001b[0;36m_getattribute\u001b[1;34m(obj, name)\u001b[0m\n\u001b[0;32m    329\u001b[0m             \u001b[0mobj\u001b[0m \u001b[1;33m=\u001b[0m \u001b[0mgetattr\u001b[0m\u001b[1;33m(\u001b[0m\u001b[0mobj\u001b[0m\u001b[1;33m,\u001b[0m \u001b[0msubpath\u001b[0m\u001b[1;33m)\u001b[0m\u001b[1;33m\u001b[0m\u001b[1;33m\u001b[0m\u001b[0m\n\u001b[0;32m    330\u001b[0m         \u001b[1;32mexcept\u001b[0m \u001b[0mAttributeError\u001b[0m\u001b[1;33m:\u001b[0m\u001b[1;33m\u001b[0m\u001b[1;33m\u001b[0m\u001b[0m\n\u001b[1;32m--> 331\u001b[1;33m             raise AttributeError(\"Can't get attribute {!r} on {!r}\"\n\u001b[0m\u001b[0;32m    332\u001b[0m                                  .format(name, obj)) from None\n\u001b[0;32m    333\u001b[0m     \u001b[1;32mreturn\u001b[0m \u001b[0mobj\u001b[0m\u001b[1;33m,\u001b[0m \u001b[0mparent\u001b[0m\u001b[1;33m\u001b[0m\u001b[1;33m\u001b[0m\u001b[0m\n",
      "\u001b[1;31mAttributeError\u001b[0m: Can't get attribute 'new_block' on <module 'pandas.core.internals.blocks' from 'C:\\\\Users\\\\gaikw\\\\anaconda3\\\\lib\\\\site-packages\\\\pandas\\\\core\\\\internals\\\\blocks.py'>"
     ]
    }
   ],
   "source": [
    "final_dataset = pd.read_pickle(\"full_proj_preproc.pickle\")\n",
    "final_dataset.head(7)"
   ]
  },
  {
   "cell_type": "code",
   "execution_count": 39,
   "metadata": {},
   "outputs": [
    {
     "name": "stdout",
     "output_type": "stream",
     "text": [
      "<class 'pandas.core.frame.DataFrame'>\n",
      "RangeIndex: 23487 entries, 0 to 23486\n",
      "Data columns (total 4 columns):\n",
      " #   Column    Non-Null Count  Dtype \n",
      "---  ------    --------------  ----- \n",
      " 0   case_url  23487 non-null  object\n",
      " 1   docket    23487 non-null  object\n",
      " 2   year      23487 non-null  int64 \n",
      " 3   fulltext  23487 non-null  object\n",
      "dtypes: int64(1), object(3)\n",
      "memory usage: 734.1+ KB\n"
     ]
    }
   ],
   "source": [
    "final_dataset.info()"
   ]
  },
  {
   "cell_type": "code",
   "execution_count": 38,
   "metadata": {},
   "outputs": [],
   "source": [
    "final_dataset['year'] =pd.to_numeric(final_dataset.year)"
   ]
  },
  {
   "cell_type": "code",
   "execution_count": 40,
   "metadata": {},
   "outputs": [],
   "source": [
    "year_wise_records = final_dataset.groupby('year').count()"
   ]
  },
  {
   "cell_type": "code",
   "execution_count": 41,
   "metadata": {},
   "outputs": [
    {
     "data": {
      "text/html": [
       "<div>\n",
       "<style scoped>\n",
       "    .dataframe tbody tr th:only-of-type {\n",
       "        vertical-align: middle;\n",
       "    }\n",
       "\n",
       "    .dataframe tbody tr th {\n",
       "        vertical-align: top;\n",
       "    }\n",
       "\n",
       "    .dataframe thead th {\n",
       "        text-align: right;\n",
       "    }\n",
       "</style>\n",
       "<table border=\"1\" class=\"dataframe\">\n",
       "  <thead>\n",
       "    <tr style=\"text-align: right;\">\n",
       "      <th></th>\n",
       "      <th>case_url</th>\n",
       "      <th>docket</th>\n",
       "      <th>fulltext</th>\n",
       "    </tr>\n",
       "    <tr>\n",
       "      <th>year</th>\n",
       "      <th></th>\n",
       "      <th></th>\n",
       "      <th></th>\n",
       "    </tr>\n",
       "  </thead>\n",
       "  <tbody>\n",
       "    <tr>\n",
       "      <th>1760</th>\n",
       "      <td>1</td>\n",
       "      <td>1</td>\n",
       "      <td>1</td>\n",
       "    </tr>\n",
       "    <tr>\n",
       "      <th>1762</th>\n",
       "      <td>1</td>\n",
       "      <td>1</td>\n",
       "      <td>1</td>\n",
       "    </tr>\n",
       "    <tr>\n",
       "      <th>1763</th>\n",
       "      <td>2</td>\n",
       "      <td>2</td>\n",
       "      <td>2</td>\n",
       "    </tr>\n",
       "    <tr>\n",
       "      <th>1764</th>\n",
       "      <td>3</td>\n",
       "      <td>3</td>\n",
       "      <td>3</td>\n",
       "    </tr>\n",
       "    <tr>\n",
       "      <th>1767</th>\n",
       "      <td>1</td>\n",
       "      <td>1</td>\n",
       "      <td>1</td>\n",
       "    </tr>\n",
       "    <tr>\n",
       "      <th>...</th>\n",
       "      <td>...</td>\n",
       "      <td>...</td>\n",
       "      <td>...</td>\n",
       "    </tr>\n",
       "    <tr>\n",
       "      <th>2014</th>\n",
       "      <td>102</td>\n",
       "      <td>102</td>\n",
       "      <td>102</td>\n",
       "    </tr>\n",
       "    <tr>\n",
       "      <th>2015</th>\n",
       "      <td>87</td>\n",
       "      <td>87</td>\n",
       "      <td>87</td>\n",
       "    </tr>\n",
       "    <tr>\n",
       "      <th>2016</th>\n",
       "      <td>102</td>\n",
       "      <td>102</td>\n",
       "      <td>102</td>\n",
       "    </tr>\n",
       "    <tr>\n",
       "      <th>2017</th>\n",
       "      <td>85</td>\n",
       "      <td>85</td>\n",
       "      <td>85</td>\n",
       "    </tr>\n",
       "    <tr>\n",
       "      <th>2018</th>\n",
       "      <td>94</td>\n",
       "      <td>94</td>\n",
       "      <td>94</td>\n",
       "    </tr>\n",
       "  </tbody>\n",
       "</table>\n",
       "<p>231 rows × 3 columns</p>\n",
       "</div>"
      ],
      "text/plain": [
       "      case_url  docket  fulltext\n",
       "year                            \n",
       "1760         1       1         1\n",
       "1762         1       1         1\n",
       "1763         2       2         2\n",
       "1764         3       3         3\n",
       "1767         1       1         1\n",
       "...        ...     ...       ...\n",
       "2014       102     102       102\n",
       "2015        87      87        87\n",
       "2016       102     102       102\n",
       "2017        85      85        85\n",
       "2018        94      94        94\n",
       "\n",
       "[231 rows x 3 columns]"
      ]
     },
     "execution_count": 41,
     "metadata": {},
     "output_type": "execute_result"
    }
   ],
   "source": [
    "year_wise_records"
   ]
  },
  {
   "cell_type": "code",
   "execution_count": 42,
   "metadata": {},
   "outputs": [
    {
     "data": {
      "text/html": [
       "<div>\n",
       "<style scoped>\n",
       "    .dataframe tbody tr th:only-of-type {\n",
       "        vertical-align: middle;\n",
       "    }\n",
       "\n",
       "    .dataframe tbody tr th {\n",
       "        vertical-align: top;\n",
       "    }\n",
       "\n",
       "    .dataframe thead th {\n",
       "        text-align: right;\n",
       "    }\n",
       "</style>\n",
       "<table border=\"1\" class=\"dataframe\">\n",
       "  <thead>\n",
       "    <tr style=\"text-align: right;\">\n",
       "      <th></th>\n",
       "      <th>year</th>\n",
       "      <th>docket</th>\n",
       "    </tr>\n",
       "  </thead>\n",
       "  <tbody>\n",
       "    <tr>\n",
       "      <th>0</th>\n",
       "      <td>1760</td>\n",
       "      <td>1</td>\n",
       "    </tr>\n",
       "    <tr>\n",
       "      <th>1</th>\n",
       "      <td>1762</td>\n",
       "      <td>1</td>\n",
       "    </tr>\n",
       "    <tr>\n",
       "      <th>2</th>\n",
       "      <td>1763</td>\n",
       "      <td>2</td>\n",
       "    </tr>\n",
       "    <tr>\n",
       "      <th>3</th>\n",
       "      <td>1764</td>\n",
       "      <td>3</td>\n",
       "    </tr>\n",
       "    <tr>\n",
       "      <th>4</th>\n",
       "      <td>1767</td>\n",
       "      <td>1</td>\n",
       "    </tr>\n",
       "  </tbody>\n",
       "</table>\n",
       "</div>"
      ],
      "text/plain": [
       "   year  docket\n",
       "0  1760       1\n",
       "1  1762       1\n",
       "2  1763       2\n",
       "3  1764       3\n",
       "4  1767       1"
      ]
     },
     "execution_count": 42,
     "metadata": {},
     "output_type": "execute_result"
    }
   ],
   "source": [
    "year_wise_records.reset_index(inplace = True)\n",
    "year_wise_records.drop('case_url', axis = 1, inplace = True )\n",
    "year_wise_records.drop('fulltext', axis = 1, inplace = True )\n",
    "year_wise_records.columns = ['year', 'number']\n",
    "year_wise_records.head(5)"
   ]
  },
  {
   "cell_type": "code",
   "execution_count": 43,
   "metadata": {},
   "outputs": [
    {
     "data": {
      "text/plain": [
       "(231, 2)"
      ]
     },
     "execution_count": 43,
     "metadata": {},
     "output_type": "execute_result"
    }
   ],
   "source": [
    "year_wise_records.shape"
   ]
  },
  {
   "cell_type": "code",
   "execution_count": 49,
   "metadata": {},
   "outputs": [
    {
     "ename": "ModuleNotFoundError",
     "evalue": "No module named 'matplotlib'",
     "output_type": "error",
     "traceback": [
      "\u001b[1;31m---------------------------------------------------------------------------\u001b[0m",
      "\u001b[1;31mModuleNotFoundError\u001b[0m                       Traceback (most recent call last)",
      "\u001b[1;32mC:\\Users\\KUNALK~1\\AppData\\Local\\Temp/ipykernel_3360/486558320.py\u001b[0m in \u001b[0;36m<module>\u001b[1;34m\u001b[0m\n\u001b[1;32m----> 1\u001b[1;33m \u001b[1;32mimport\u001b[0m \u001b[0mmatplotlib\u001b[0m\u001b[1;33m.\u001b[0m\u001b[0mpyplot\u001b[0m \u001b[1;32mas\u001b[0m \u001b[0mplt\u001b[0m\u001b[1;33m\u001b[0m\u001b[1;33m\u001b[0m\u001b[0m\n\u001b[0m\u001b[0;32m      2\u001b[0m \u001b[0mget_ipython\u001b[0m\u001b[1;33m(\u001b[0m\u001b[1;33m)\u001b[0m\u001b[1;33m.\u001b[0m\u001b[0mrun_line_magic\u001b[0m\u001b[1;33m(\u001b[0m\u001b[1;34m'matplotlib'\u001b[0m\u001b[1;33m,\u001b[0m \u001b[1;34m'inline'\u001b[0m\u001b[1;33m)\u001b[0m\u001b[1;33m\u001b[0m\u001b[1;33m\u001b[0m\u001b[0m\n\u001b[0;32m      3\u001b[0m \u001b[1;33m\u001b[0m\u001b[0m\n\u001b[0;32m      4\u001b[0m \u001b[0myears\u001b[0m \u001b[1;33m=\u001b[0m \u001b[1;33m[\u001b[0m\u001b[1;33m]\u001b[0m\u001b[1;33m\u001b[0m\u001b[1;33m\u001b[0m\u001b[0m\n\u001b[0;32m      5\u001b[0m \u001b[1;32mfor\u001b[0m \u001b[0mi\u001b[0m \u001b[1;32min\u001b[0m \u001b[0mrange\u001b[0m\u001b[1;33m(\u001b[0m\u001b[1;36m1790\u001b[0m\u001b[1;33m,\u001b[0m \u001b[1;36m2020\u001b[0m\u001b[1;33m,\u001b[0m \u001b[1;36m20\u001b[0m\u001b[1;33m)\u001b[0m\u001b[1;33m:\u001b[0m\u001b[1;33m\u001b[0m\u001b[1;33m\u001b[0m\u001b[0m\n",
      "\u001b[1;31mModuleNotFoundError\u001b[0m: No module named 'matplotlib'"
     ]
    }
   ],
   "source": [
    "import matplotlib.pyplot as plt\n",
    "%matplotlib inline\n",
    "\n",
    "years = []\n",
    "for i in range(1790, 2020, 20):\n",
    "    years.append(i)\n",
    "\n",
    "plt.rcParams.update({'font.size': 28})    \n",
    "\n",
    "plt.figure(figsize=(20,10))\n",
    "plt.title('Supreme court cases over time')\n",
    "plt.ylabel('Number of cases')\n",
    "plt.xlabel('Year')\n",
    "plt.xlim(1790, 2020)\n",
    "plt.ylim(0,350)\n",
    "plt.xticks(years)\n",
    "plt.plot(df[\"year\"],df[\"number\"], linewidth = 4.0);"
   ]
  },
  {
   "cell_type": "code",
   "execution_count": null,
   "metadata": {},
   "outputs": [],
   "source": []
  }
 ],
 "metadata": {
  "kernelspec": {
   "display_name": "Python 3",
   "language": "python",
   "name": "python3"
  },
  "language_info": {
   "codemirror_mode": {
    "name": "ipython",
    "version": 3
   },
   "file_extension": ".py",
   "mimetype": "text/x-python",
   "name": "python",
   "nbconvert_exporter": "python",
   "pygments_lexer": "ipython3",
   "version": "3.8.5"
  }
 },
 "nbformat": 4,
 "nbformat_minor": 5
}
